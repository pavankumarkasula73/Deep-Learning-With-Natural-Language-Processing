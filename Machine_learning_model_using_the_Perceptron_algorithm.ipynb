{
  "nbformat": 4,
  "nbformat_minor": 0,
  "metadata": {
    "colab": {
      "provenance": [],
      "authorship_tag": "ABX9TyNrwISQF9vKm8WOFuK1I2rY",
      "include_colab_link": true
    },
    "kernelspec": {
      "name": "python3",
      "display_name": "Python 3"
    },
    "language_info": {
      "name": "python"
    }
  },
  "cells": [
    {
      "cell_type": "markdown",
      "metadata": {
        "id": "view-in-github",
        "colab_type": "text"
      },
      "source": [
        "<a href=\"https://colab.research.google.com/github/pavankumarkasula73/Deep-Learning-With-Natural-Language-Processing/blob/main/Machine_learning_model_using_the_Perceptron_algorithm.ipynb\" target=\"_parent\"><img src=\"https://colab.research.google.com/assets/colab-badge.svg\" alt=\"Open In Colab\"/></a>"
      ]
    },
    {
      "cell_type": "markdown",
      "source": [
        "# **Create and Save the Dataset:**"
      ],
      "metadata": {
        "id": "0eCmKBF-dSqh"
      }
    },
    {
      "cell_type": "code",
      "execution_count": 21,
      "metadata": {
        "id": "nM0Rbq9YZTsE"
      },
      "outputs": [],
      "source": [
        "import pandas as pd\n",
        "\n",
        "# Create a sample dataset\n",
        "data = {\n",
        "    'EducationLevel': [1, 2, 3, 2, 1, 3, 2, 1, 3, 2],\n",
        "    'RecruitmentStrategy': [1, 2, 1, 2, 1, 2, 1, 2, 1, 2],\n",
        "    'HiringDecision': ['Yes', 'No', 'Yes', 'No', 'Yes', 'Yes', 'No', 'Yes', 'No', 'Yes'],\n",
        "    'InterviewScore': [85, 78, 90, 76, 88, 92, 74, 86, 80, 89]\n",
        "}\n",
        "\n",
        "# Convert to DataFrame\n",
        "dataset = pd.DataFrame(data)\n",
        "\n",
        "# Encode 'HiringDecision' column\n",
        "dataset['HiringDecision'] = dataset['HiringDecision'].map({'Yes': 1, 'No': 0})\n",
        "\n",
        "# Save the dataset to a CSV file\n",
        "dataset.to_csv('recruitment_data.csv', index=False)"
      ]
    },
    {
      "cell_type": "markdown",
      "source": [
        "# **Load and Display the Dataset**"
      ],
      "metadata": {
        "id": "cawIOwyEdV0R"
      }
    },
    {
      "cell_type": "code",
      "source": [
        "import pandas as pd\n",
        "\n",
        "# Load the dataset\n",
        "dataset = pd.read_csv('recruitment_data.csv')\n",
        "\n",
        "# Display the first few rows of the dataset\n",
        "print(dataset.head())"
      ],
      "metadata": {
        "colab": {
          "base_uri": "https://localhost:8080/"
        },
        "id": "3NACHhYgZloH",
        "outputId": "05e36873-8318-45ef-a849-6ef36d6163b3"
      },
      "execution_count": 22,
      "outputs": [
        {
          "output_type": "stream",
          "name": "stdout",
          "text": [
            "   EducationLevel  RecruitmentStrategy  HiringDecision  InterviewScore\n",
            "0               1                    1               1              85\n",
            "1               2                    2               0              78\n",
            "2               3                    1               1              90\n",
            "3               2                    2               0              76\n",
            "4               1                    1               1              88\n"
          ]
        }
      ]
    },
    {
      "cell_type": "markdown",
      "source": [
        "# **Scatter Plot of the Data**"
      ],
      "metadata": {
        "id": "Fv4kMQQ9daaX"
      }
    },
    {
      "cell_type": "code",
      "source": [
        "import matplotlib.pyplot as plt\n",
        "import seaborn as sns\n",
        "\n",
        "# Scatter Plot of the Data\n",
        "plt.figure(figsize=(4, 3))\n",
        "sns.scatterplot(x='EducationLevel', y='RecruitmentStrategy', data=dataset, hue='HiringDecision')\n",
        "plt.show()"
      ],
      "metadata": {
        "colab": {
          "base_uri": "https://localhost:8080/",
          "height": 311
        },
        "id": "nzPJEthgZqk4",
        "outputId": "ae50561b-9ec5-4843-961f-5aa4db361bf0"
      },
      "execution_count": 23,
      "outputs": [
        {
          "output_type": "display_data",
          "data": {
            "text/plain": [
              "<Figure size 400x300 with 1 Axes>"
            ],
            "image/png": "[encoded data removed]"
          },
          "metadata": {}
        }
      ]
    },
    {
      "cell_type": "markdown",
      "source": [
        "# **Prepare the Data (Selecting Only Two Features)**"
      ],
      "metadata": {
        "id": "XXrPTjQRdesq"
      }
    },
    {
      "cell_type": "code",
      "source": [
        "# Preparing the Data (Selecting Only Two Features)\n",
        "x = dataset[['EducationLevel', 'RecruitmentStrategy']]  # Select only two features\n",
        "y = dataset['HiringDecision']  # Select the target"
      ],
      "metadata": {
        "id": "9Tkf61OLZuns"
      },
      "execution_count": 24,
      "outputs": []
    },
    {
      "cell_type": "markdown",
      "source": [
        "# **Split the Data**"
      ],
      "metadata": {
        "id": "5rxDiqLadkTp"
      }
    },
    {
      "cell_type": "code",
      "source": [
        "from sklearn.model_selection import train_test_split\n",
        "\n",
        "# Splitting the Data\n",
        "x_train, x_test, y_train, y_test = train_test_split(x, y, test_size=0.2, random_state=42)\n"
      ],
      "metadata": {
        "id": "2gi9N4nlcmZc"
      },
      "execution_count": 25,
      "outputs": []
    },
    {
      "cell_type": "markdown",
      "source": [
        "# **Train the Perceptron Model**"
      ],
      "metadata": {
        "id": "l5Iptfmxdoem"
      }
    },
    {
      "cell_type": "code",
      "source": [
        "from sklearn.linear_model import Perceptron\n",
        "\n",
        "# Training the Model\n",
        "pr = Perceptron()\n",
        "pr.fit(x_train, y_train)\n",
        "\n",
        "# Display training and testing accuracy\n",
        "train_accuracy = pr.score(x_train, y_train) * 100\n",
        "test_accuracy = pr.score(x_test, y_test) * 100\n",
        "print(f'Training Accuracy: {train_accuracy:.2f}%')\n",
        "print(f'Test Accuracy: {test_accuracy:.2f}%')"
      ],
      "metadata": {
        "colab": {
          "base_uri": "https://localhost:8080/"
        },
        "id": "R2OSAFlycpLl",
        "outputId": "35551090-5987-4fe9-f4bd-194481e242c5"
      },
      "execution_count": 26,
      "outputs": [
        {
          "output_type": "stream",
          "name": "stdout",
          "text": [
            "Training Accuracy: 75.00%\n",
            "Test Accuracy: 0.00%\n"
          ]
        }
      ]
    },
    {
      "cell_type": "markdown",
      "source": [
        "# **Plot Decision Regions**"
      ],
      "metadata": {
        "id": "NNz5RDnCdt9E"
      }
    },
    {
      "cell_type": "code",
      "source": [
        "from mlxtend.plotting import plot_decision_regions\n",
        "\n",
        "# Plotting Decision Regions\n",
        "plot_decision_regions(x.values, y.values, clf=pr)\n",
        "plt.show()"
      ],
      "metadata": {
        "colab": {
          "base_uri": "https://localhost:8080/",
          "height": 490
        },
        "id": "9McaBIQ9csMG",
        "outputId": "1283680f-92a8-49a2-aabe-2333275dab56"
      },
      "execution_count": 27,
      "outputs": [
        {
          "output_type": "stream",
          "name": "stderr",
          "text": [
            "/usr/local/lib/python3.10/dist-packages/sklearn/base.py:439: UserWarning: X does not have valid feature names, but Perceptron was fitted with feature names\n",
            "  warnings.warn(\n"
          ]
        },
        {
          "output_type": "display_data",
          "data": {
            "text/plain": [
              "<Figure size 640x480 with 1 Axes>"
            ],
            "image/png": "[encoded data removed]"
          },
          "metadata": {}
        }
      ]
    }
  ]
}