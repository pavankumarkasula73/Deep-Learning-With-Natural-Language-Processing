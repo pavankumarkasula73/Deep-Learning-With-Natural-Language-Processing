{
  "nbformat": 4,
  "nbformat_minor": 0,
  "metadata": {
    "colab": {
      "provenance": [],
      "authorship_tag": "ABX9TyNT9/e+TfhUUzGsTvvA3UXE",
      "include_colab_link": true
    },
    "kernelspec": {
      "name": "python3",
      "display_name": "Python 3"
    },
    "language_info": {
      "name": "python"
    }
  },
  "cells": [
    {
      "cell_type": "markdown",
      "metadata": {
        "id": "view-in-github",
        "colab_type": "text"
      },
      "source": [
        "<a href=\"https://colab.research.google.com/github/pavankumarkasula73/Deep-Learning-With-Natural-Language-Processing/blob/main/Implementation_to_Convert_the_text_to_unique_integers_with_ScikitLearn_(HashingVectorizer).ipynb\" target=\"_parent\"><img src=\"https://colab.research.google.com/assets/colab-badge.svg\" alt=\"Open In Colab\"/></a>"
      ]
    },
    {
      "cell_type": "markdown",
      "source": [
        "# **Install Scikit-Learn**"
      ],
      "metadata": {
        "id": "L6OUzugHm-mv"
      }
    },
    {
      "cell_type": "code",
      "execution_count": 2,
      "metadata": {
        "colab": {
          "base_uri": "https://localhost:8080/"
        },
        "id": "x6NIlTUjmmqs",
        "outputId": "08846398-4991-4270-cd1f-f957d5c3c8b6"
      },
      "outputs": [
        {
          "output_type": "stream",
          "name": "stdout",
          "text": [
            "Requirement already satisfied: scikit-learn in /usr/local/lib/python3.10/dist-packages (1.2.2)\n",
            "Requirement already satisfied: numpy>=1.17.3 in /usr/local/lib/python3.10/dist-packages (from scikit-learn) (1.25.2)\n",
            "Requirement already satisfied: scipy>=1.3.2 in /usr/local/lib/python3.10/dist-packages (from scikit-learn) (1.11.4)\n",
            "Requirement already satisfied: joblib>=1.1.1 in /usr/local/lib/python3.10/dist-packages (from scikit-learn) (1.4.2)\n",
            "Requirement already satisfied: threadpoolctl>=2.0.0 in /usr/local/lib/python3.10/dist-packages (from scikit-learn) (3.5.0)\n"
          ]
        }
      ],
      "source": [
        "pip install scikit-learn"
      ]
    },
    {
      "cell_type": "markdown",
      "source": [
        "# **Import necessary Libraries**"
      ],
      "metadata": {
        "id": "y6ufTAtanP-J"
      }
    },
    {
      "cell_type": "code",
      "source": [
        "import pandas as pd\n",
        "from sklearn.feature_extraction.text import HashingVectorizer"
      ],
      "metadata": {
        "id": "wajcEoh1nbuK"
      },
      "execution_count": 13,
      "outputs": []
    },
    {
      "cell_type": "markdown",
      "source": [
        "# **Inspect the Dataset**"
      ],
      "metadata": {
        "id": "nHKGQhC6nfwW"
      }
    },
    {
      "cell_type": "code",
      "source": [
        "# Load dataset\n",
        "file_path = '/content/superheroes_nlp_dataset.csv'\n",
        "df = pd.read_csv(file_path)"
      ],
      "metadata": {
        "id": "8PScZ3quoIzm"
      },
      "execution_count": 24,
      "outputs": []
    },
    {
      "cell_type": "markdown",
      "source": [
        "# **Extract the Text Column**"
      ],
      "metadata": {
        "id": "lAekNsEyrGlt"
      }
    },
    {
      "cell_type": "code",
      "source": [
        "# Display the first few rows of the dataset\n",
        "print(df.head())\n",
        "\n",
        "# Display the column names of the dataset\n",
        "print(df.columns)"
      ],
      "metadata": {
        "colab": {
          "base_uri": "https://localhost:8080/"
        },
        "id": "8u0jFDiJrJy2",
        "outputId": "ac0bccf0-e35f-459e-a1ee-3f6e6b5d997f"
      },
      "execution_count": 25,
      "outputs": [
        {
          "output_type": "stream",
          "name": "stdout",
          "text": [
            "            name               real_name               full_name  \\\n",
            "0        3-D Man     Delroy Garrett, Jr.     Delroy Garrett, Jr.   \n",
            "1  514A (Gotham)             Bruce Wayne                     NaN   \n",
            "2         A-Bomb  Richard Milhouse Jones  Richard Milhouse Jones   \n",
            "3             Aa                      Aa                     NaN   \n",
            "4     Aaron Cash              Aaron Cash              Aaron Cash   \n",
            "\n",
            "  overall_score                                       history_text  \\\n",
            "0             6  Delroy Garrett, Jr. grew up to become a track ...   \n",
            "1            10  He was one of the many prisoners of Indian Hil...   \n",
            "2            20   Richard \"Rick\" Jones was orphaned at a young ...   \n",
            "3            12  Aa is one of the more passive members of the P...   \n",
            "4             5  Aaron Cash is the head of security at Arkham A...   \n",
            "\n",
            "                                         powers_text  intelligence_score  \\\n",
            "0                                                NaN                  85   \n",
            "1                                                NaN                 100   \n",
            "2    On rare occasions, and through unusual circu...                  80   \n",
            "3                                                NaN                  80   \n",
            "4                                                NaN                  80   \n",
            "\n",
            "   strength_score  speed_score  durability_score  ...  has_flight  \\\n",
            "0              30           60                60  ...         0.0   \n",
            "1              20           30                50  ...         0.0   \n",
            "2             100           80               100  ...         0.0   \n",
            "3              50           55                45  ...         0.0   \n",
            "4              10           25                40  ...         0.0   \n",
            "\n",
            "   has_accelerated_healing has_weapons_master has_intelligence has_reflexes  \\\n",
            "0                      0.0                0.0              0.0          0.0   \n",
            "1                      0.0                0.0              0.0          1.0   \n",
            "2                      1.0                0.0              0.0          1.0   \n",
            "3                      0.0                0.0              0.0          0.0   \n",
            "4                      0.0                1.0              0.0          0.0   \n",
            "\n",
            "  has_super_speed has_durability has_stamina has_agility has_super_strength  \n",
            "0             1.0            0.0         0.0         0.0                1.0  \n",
            "1             0.0            1.0         0.0         0.0                1.0  \n",
            "2             1.0            1.0         1.0         1.0                1.0  \n",
            "3             0.0            0.0         0.0         0.0                0.0  \n",
            "4             0.0            0.0         0.0         0.0                0.0  \n",
            "\n",
            "[5 rows x 81 columns]\n",
            "Index(['name', 'real_name', 'full_name', 'overall_score', 'history_text',\n",
            "       'powers_text', 'intelligence_score', 'strength_score', 'speed_score',\n",
            "       'durability_score', 'power_score', 'combat_score', 'superpowers',\n",
            "       'alter_egos', 'aliases', 'place_of_birth', 'first_appearance',\n",
            "       'creator', 'alignment', 'occupation', 'base', 'teams', 'relatives',\n",
            "       'gender', 'type_race', 'height', 'weight', 'eye_color', 'hair_color',\n",
            "       'skin_color', 'img', 'has_electrokinesis', 'has_energy_constructs',\n",
            "       'has_mind_control_resistance', 'has_matter_manipulation',\n",
            "       'has_telepathy_resistance', 'has_mind_control', 'has_enhanced_hearing',\n",
            "       'has_dimensional_travel', 'has_element_control', 'has_size_changing',\n",
            "       'has_fire_resistance', 'has_fire_control', 'has_dexterity',\n",
            "       'has_reality_warping', 'has_illusions', 'has_energy_beams',\n",
            "       'has_peak_human_condition', 'has_shapeshifting', 'has_heat_resistance',\n",
            "       'has_jump', 'has_self-sustenance', 'has_energy_absorption',\n",
            "       'has_cold_resistance', 'has_magic', 'has_telekinesis',\n",
            "       'has_toxin_and_disease_resistance', 'has_telepathy', 'has_regeneration',\n",
            "       'has_immortality', 'has_teleportation', 'has_force_fields',\n",
            "       'has_energy_manipulation', 'has_endurance', 'has_longevity',\n",
            "       'has_weapon-based_powers', 'has_energy_blasts', 'has_enhanced_senses',\n",
            "       'has_invulnerability', 'has_stealth', 'has_marksmanship', 'has_flight',\n",
            "       'has_accelerated_healing', 'has_weapons_master', 'has_intelligence',\n",
            "       'has_reflexes', 'has_super_speed', 'has_durability', 'has_stamina',\n",
            "       'has_agility', 'has_super_strength'],\n",
            "      dtype='object')\n"
          ]
        }
      ]
    },
    {
      "cell_type": "markdown",
      "source": [
        "# **Extract the Text Column**"
      ],
      "metadata": {
        "id": "3BluwthvuC7Z"
      }
    },
    {
      "cell_type": "code",
      "source": [
        "# Extract the 'history_text' column and drop NaN values\n",
        "documents = df['history_text'].dropna().tolist()"
      ],
      "metadata": {
        "id": "E6D-MIbuuMmm"
      },
      "execution_count": 26,
      "outputs": []
    },
    {
      "cell_type": "markdown",
      "source": [
        "# **Initialize the HashingVectorizer**"
      ],
      "metadata": {
        "id": "vur6N1bWuPoA"
      }
    },
    {
      "cell_type": "code",
      "source": [
        "# Initialize the HashingVectorizer\n",
        "vectorizer = HashingVectorizer(n_features=20)  # Adjust n_features as needed"
      ],
      "metadata": {
        "id": "wCf3TKODuTwP"
      },
      "execution_count": 27,
      "outputs": []
    },
    {
      "cell_type": "markdown",
      "source": [
        "# **Fit and Transform the Data**"
      ],
      "metadata": {
        "id": "0HYQfl7suWYC"
      }
    },
    {
      "cell_type": "code",
      "source": [
        "# Fit and transform the data\n",
        "X = vectorizer.fit_transform(documents)"
      ],
      "metadata": {
        "id": "MEJmidxyuaWM"
      },
      "execution_count": 28,
      "outputs": []
    },
    {
      "cell_type": "markdown",
      "source": [
        "# **Convert to Dense Format**"
      ],
      "metadata": {
        "id": "4XYLc0hvuimC"
      }
    },
    {
      "cell_type": "code",
      "source": [
        "# Convert to dense format (optional)\n",
        "X_dense = X.toarray()"
      ],
      "metadata": {
        "id": "7fPJjZo_uoZH"
      },
      "execution_count": 29,
      "outputs": []
    },
    {
      "cell_type": "markdown",
      "source": [
        "# **Print the Result**"
      ],
      "metadata": {
        "id": "_lxUUCmtu8LT"
      }
    },
    {
      "cell_type": "code",
      "source": [
        "# Print the result\n",
        "print(\"Hashed token occurrences (dense format):\\n\", X_dense)"
      ],
      "metadata": {
        "colab": {
          "base_uri": "https://localhost:8080/"
        },
        "id": "CFoDAt1dvAnP",
        "outputId": "8c0f727b-65b6-4ce6-c386-a2131b0221b1"
      },
      "execution_count": 30,
      "outputs": [
        {
          "output_type": "stream",
          "name": "stdout",
          "text": [
            "Hashed token occurrences (dense format):\n",
            " [[-0.2563073  -0.08543577 -0.17087153 ... -0.08543577 -0.34174306\n",
            "   0.2563073 ]\n",
            " [-0.23839846 -0.28046877 -0.08414063 ...  0.11218751 -0.50484379\n",
            "  -0.08414063]\n",
            " [-0.23915554  0.08318454  0.11437874 ... -0.07278647 -0.62388402\n",
            "   0.16636907]\n",
            " ...\n",
            " [-0.10976426  0.10976426 -0.10976426 ...  0.         -0.65858556\n",
            "   0.32929278]\n",
            " [-0.1064308  -0.0228066   0.076022   ...  0.0456132  -0.48654081\n",
            "   0.2356682 ]\n",
            " [ 0.03772913  0.64139528  0.2829685  ... -0.01886457 -0.2263748\n",
            "   0.03772913]]\n"
          ]
        }
      ]
    }
  ]
}