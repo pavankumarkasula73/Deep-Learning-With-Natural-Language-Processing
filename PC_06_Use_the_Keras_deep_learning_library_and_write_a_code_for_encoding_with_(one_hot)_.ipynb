{
  "nbformat": 4,
  "nbformat_minor": 0,
  "metadata": {
    "colab": {
      "provenance": [],
      "authorship_tag": "ABX9TyNm3CTVFFiCrS3Gp1TBQRpk",
      "include_colab_link": true
    },
    "kernelspec": {
      "name": "python3",
      "display_name": "Python 3"
    },
    "language_info": {
      "name": "python"
    }
  },
  "cells": [
    {
      "cell_type": "markdown",
      "metadata": {
        "id": "view-in-github",
        "colab_type": "text"
      },
      "source": [
        "<a href=\"https://colab.research.google.com/github/pavankumarkasula73/Deep-Learning-With-Natural-Language-Processing/blob/main/PC_06_Use_the_Keras_deep_learning_library_and_write_a_code_for_encoding_with_(one_hot)_.ipynb\" target=\"_parent\"><img src=\"https://colab.research.google.com/assets/colab-badge.svg\" alt=\"Open In Colab\"/></a>"
      ]
    },
    {
      "cell_type": "code",
      "execution_count": 2,
      "metadata": {
        "colab": {
          "base_uri": "https://localhost:8080/"
        },
        "id": "aXtNKuNoPGFT",
        "outputId": "6f3bc59b-0b56-495e-de30-178fc4c57b8f"
      },
      "outputs": [
        {
          "output_type": "stream",
          "name": "stdout",
          "text": [
            "[[1. 0. 0.]\n",
            " [0. 1. 0.]\n",
            " [0. 0. 1.]\n",
            " [0. 1. 0.]\n",
            " [1. 0. 0.]\n",
            " [0. 0. 1.]]\n"
          ]
        }
      ],
      "source": [
        "from keras.utils import to_categorical\n",
        "color_labels = [0, 1, 2, 1, 0, 2]\n",
        "one_hot_encoded = to_categorical(color_labels)\n",
        "print(one_hot_encoded)"
      ]
    }
  ]
}